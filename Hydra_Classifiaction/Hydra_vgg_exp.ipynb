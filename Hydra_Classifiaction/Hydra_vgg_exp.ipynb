{
 "cells": [
  {
   "cell_type": "code",
   "execution_count": 1,
   "metadata": {},
   "outputs": [
    {
     "name": "stderr",
     "output_type": "stream",
     "text": [
      "/usr/local/lib/python3.5/dist-packages/h5py/__init__.py:36: FutureWarning: Conversion of the second argument of issubdtype from `float` to `np.floating` is deprecated. In future, it will be treated as `np.float64 == np.dtype(float).type`.\n",
      "  from ._conv import register_converters as _register_converters\n"
     ]
    }
   ],
   "source": [
    "import pandas as pd\n",
    "import numpy as np\n",
    "import tqdm\n",
    "import os\n",
    "import cv2\n",
    "from random import shuffle\n",
    "import h5py\n",
    "from shutil import copy,move\n",
    "labels = pd.read_csv('train_labels.csv')\n",
    "names = labels['name']\n",
    "inv = labels['invasive']"
   ]
  },
  {
   "cell_type": "code",
   "execution_count": 59,
   "metadata": {},
   "outputs": [
    {
     "data": {
      "text/plain": [
       "0"
      ]
     },
     "execution_count": 59,
     "metadata": {},
     "output_type": "execute_result"
    }
   ],
   "source": [
    "inv[50]"
   ]
  },
  {
   "cell_type": "code",
   "execution_count": 51,
   "metadata": {},
   "outputs": [
    {
     "name": "stderr",
     "output_type": "stream",
     "text": [
      "100%|██████████| 2295/2295 [00:02<00:00, 855.52it/s] \n"
     ]
    }
   ],
   "source": [
    "def func():\n",
    "    folder = 'train'\n",
    "    \n",
    "    for i in tqdm.tqdm(range(len(names))):\n",
    "        val_folds = os.path.join('train',str(names[i]) + '.jpg')\n",
    "        if inv[i] == 1:\n",
    "            copy(val_folds,os.path.join('Images','1'))\n",
    "        else:\n",
    "                 copy(val_folds,os.path.join('Images','0'))\n",
    "          \n",
    "func()"
   ]
  },
  {
   "cell_type": "code",
   "execution_count": 58,
   "metadata": {},
   "outputs": [
    {
     "name": "stdout",
     "output_type": "stream",
     "text": [
      "1\n",
      "Images/1\n",
      "120.jpg\n",
      "1565.jpg\n",
      "1702.jpg\n",
      "1569.jpg\n",
      "2131.jpg\n",
      "315.jpg\n",
      "2135.jpg\n",
      "324.jpg\n",
      "988.jpg\n",
      "81.jpg\n",
      "1943.jpg\n",
      "2016.jpg\n",
      "1387.jpg\n",
      "1708.jpg\n",
      "1751.jpg\n",
      "1144.jpg\n",
      "1158.jpg\n",
      "808.jpg\n",
      "614.jpg\n",
      "714.jpg\n",
      "2221.jpg\n",
      "1220.jpg\n",
      "777.jpg\n",
      "1721.jpg\n",
      "1574.jpg\n",
      "973.jpg\n",
      "904.jpg\n",
      "2148.jpg\n",
      "1245.jpg\n",
      "1030.jpg\n",
      "1792.jpg\n",
      "479.jpg\n",
      "23.jpg\n",
      "512.jpg\n",
      "321.jpg\n",
      "1423.jpg\n",
      "1869.jpg\n",
      "169.jpg\n",
      "814.jpg\n",
      "2133.jpg\n",
      "617.jpg\n",
      "1241.jpg\n",
      "1128.jpg\n",
      "1178.jpg\n",
      "2219.jpg\n",
      "964.jpg\n",
      "1199.jpg\n",
      "2254.jpg\n",
      "1317.jpg\n",
      "671.jpg\n",
      "1962.jpg\n",
      "672.jpg\n",
      "1739.jpg\n",
      "1411.jpg\n",
      "1035.jpg\n",
      "580.jpg\n",
      "1679.jpg\n",
      "1915.jpg\n",
      "1798.jpg\n",
      "1243.jpg\n",
      "822.jpg\n",
      "894.jpg\n",
      "689.jpg\n",
      "264.jpg\n",
      "706.jpg\n",
      "1555.jpg\n",
      "76.jpg\n",
      "1690.jpg\n",
      "955.jpg\n",
      "1749.jpg\n",
      "2216.jpg\n",
      "1499.jpg\n",
      "1990.jpg\n",
      "1897.jpg\n",
      "2181.jpg\n",
      "668.jpg\n",
      "1238.jpg\n",
      "1398.jpg\n",
      "396.jpg\n",
      "191.jpg\n",
      "1399.jpg\n",
      "1063.jpg\n",
      "1424.jpg\n",
      "273.jpg\n",
      "1775.jpg\n",
      "2177.jpg\n",
      "1154.jpg\n",
      "717.jpg\n",
      "1263.jpg\n",
      "1215.jpg\n",
      "1075.jpg\n",
      "527.jpg\n",
      "99.jpg\n",
      "710.jpg\n",
      "1428.jpg\n",
      "1406.jpg\n",
      "2165.jpg\n",
      "1604.jpg\n",
      "801.jpg\n",
      "1706.jpg\n",
      "2259.jpg\n",
      "397.jpg\n",
      "825.jpg\n",
      "1129.jpg\n",
      "1335.jpg\n",
      "1747.jpg\n",
      "1118.jpg\n",
      "2288.jpg\n",
      "1628.jpg\n",
      "960.jpg\n",
      "1431.jpg\n",
      "233.jpg\n",
      "1446.jpg\n",
      "444.jpg\n",
      "2003.jpg\n",
      "702.jpg\n",
      "2284.jpg\n",
      "1634.jpg\n",
      "1515.jpg\n",
      "697.jpg\n",
      "1904.jpg\n",
      "1301.jpg\n",
      "216.jpg\n",
      "320.jpg\n",
      "330.jpg\n",
      "0\n",
      "Images/0\n",
      "1472.jpg\n",
      "773.jpg\n",
      "1771.jpg\n",
      "310.jpg\n",
      "1451.jpg\n",
      "786.jpg\n",
      "1581.jpg\n",
      "1378.jpg\n",
      "1602.jpg\n",
      "1031.jpg\n",
      "187.jpg\n",
      "1925.jpg\n",
      "1345.jpg\n",
      "539.jpg\n",
      "2136.jpg\n",
      "1573.jpg\n",
      "2048.jpg\n",
      "430.jpg\n",
      "1253.jpg\n",
      "1740.jpg\n",
      "523.jpg\n",
      "818.jpg\n",
      "1868.jpg\n",
      "351.jpg\n",
      "1090.jpg\n",
      "1076.jpg\n",
      "1620.jpg\n",
      "1465.jpg\n",
      "2204.jpg\n",
      "1750.jpg\n",
      "762.jpg\n",
      "359.jpg\n",
      "296.jpg\n",
      "1013.jpg\n",
      "472.jpg\n",
      "182.jpg\n",
      "924.jpg\n",
      "558.jpg\n",
      "1793.jpg\n",
      "501.jpg\n",
      "1346.jpg\n",
      "53.jpg\n",
      "1698.jpg\n",
      "994.jpg\n",
      "1464.jpg\n",
      "2227.jpg\n",
      "1291.jpg\n",
      "912.jpg\n",
      "2273.jpg\n",
      "2038.jpg\n",
      "942.jpg\n",
      "1125.jpg\n",
      "232.jpg\n",
      "701.jpg\n",
      "1801.jpg\n",
      "1295.jpg\n",
      "828.jpg\n",
      "1259.jpg\n",
      "482.jpg\n",
      "2073.jpg\n",
      "1491.jpg\n",
      "832.jpg\n",
      "1216.jpg\n",
      "1532.jpg\n",
      "1636.jpg\n",
      "54.jpg\n",
      "1932.jpg\n",
      "1883.jpg\n",
      "1083.jpg\n",
      "424.jpg\n",
      "1803.jpg\n",
      "1162.jpg\n",
      "931.jpg\n",
      "484.jpg\n",
      "1368.jpg\n",
      "431.jpg\n",
      "1808.jpg\n",
      "1328.jpg\n",
      "935.jpg\n",
      "2279.jpg\n",
      "1021.jpg\n",
      "203.jpg\n",
      "1395.jpg\n",
      "1988.jpg\n",
      "2207.jpg\n",
      "639.jpg\n",
      "602.jpg\n",
      "1577.jpg\n",
      "1657.jpg\n",
      "835.jpg\n",
      "653.jpg\n",
      "2289.jpg\n",
      "2252.jpg\n",
      "1418.jpg\n",
      "1839.jpg\n",
      "1149.jpg\n",
      "2155.jpg\n",
      "1454.jpg\n",
      "50.jpg\n",
      "2071.jpg\n",
      "140.jpg\n",
      "144.jpg\n",
      "895.jpg\n",
      "148.jpg\n",
      "1494.jpg\n",
      "1211.jpg\n",
      "1973.jpg\n",
      "1298.jpg\n",
      "2009.jpg\n",
      "1939.jpg\n",
      "1760.jpg\n",
      "1991.jpg\n",
      "2107.jpg\n",
      "336.jpg\n",
      "1970.jpg\n",
      "1828.jpg\n",
      "1649.jpg\n",
      "815.jpg\n",
      "165.jpg\n",
      "184.jpg\n",
      "1844.jpg\n",
      "940.jpg\n",
      "985.jpg\n",
      "2028.jpg\n",
      "1948.jpg\n"
     ]
    }
   ],
   "source": [
    "os.makedirs('val')\n",
    "def val():\n",
    "   \n",
    "    for folder in os.listdir('Images'):\n",
    "        print(folder)\n",
    "        os.makedirs(os.path.join('val',folder))\n",
    "        new = os.path.join('val',folder)\n",
    "        \n",
    "        i = 0\n",
    "        folder = os.path.join('Images',folder)\n",
    "        print(folder)\n",
    "        for file in os.listdir(folder):\n",
    "            print(file)\n",
    "            file = os.path.join(folder,file)\n",
    "            move(file,new)\n",
    "            i = i+1\n",
    "            if i == 125:\n",
    "                break\n",
    "                        \n",
    "val()"
   ]
  },
  {
   "cell_type": "code",
   "execution_count": 2,
   "metadata": {},
   "outputs": [],
   "source": [
    "def save(model):\n",
    "\n",
    "    model_save = model.to_json()\n",
    "    with open(\"weights70.json\",\"w\") as json_file:\n",
    "        json_file.write(model_save)\n",
    "\n",
    "    model.save_weights(\"model70.h5\")\n",
    "    print(\"SAVED\")\n",
    "\n"
   ]
  },
  {
   "cell_type": "code",
   "execution_count": 3,
   "metadata": {
    "scrolled": true
   },
   "outputs": [
    {
     "name": "stderr",
     "output_type": "stream",
     "text": [
      "Using TensorFlow backend.\n"
     ]
    }
   ],
   "source": [
    "from keras.layers import Dense,Conv2D\n",
    "from keras.preprocessing.image import ImageDataGenerator,img_to_array, load_img\n",
    "import math"
   ]
  },
  {
   "cell_type": "code",
   "execution_count": 4,
   "metadata": {},
   "outputs": [
    {
     "name": "stdout",
     "output_type": "stream",
     "text": [
      "Found 1920 images belonging to 2 classes.\n",
      "Found 250 images belonging to 2 classes.\n"
     ]
    }
   ],
   "source": [
    "train_datagen = ImageDataGenerator(\n",
    "        rescale=1./255,\n",
    "        shear_range=0.2,\n",
    "        zoom_range=0.2,\n",
    "    rotation_range=30, \n",
    "        width_shift_range=0.1,\n",
    "        height_shift_range=0.1, \n",
    "        horizontal_flip=True)\n",
    "\n",
    "test_datagen = ImageDataGenerator(rescale=1./255)\n",
    "\n",
    "train_generator = train_datagen.flow_from_directory(\n",
    "        'Images',\n",
    "        shuffle = False,\n",
    "        target_size=(300,400),\n",
    "        batch_size=5,\n",
    "        class_mode='categorical')\n",
    "validation_generator = test_datagen.flow_from_directory(\n",
    "        'val',\n",
    "        shuffle = False,\n",
    "        target_size=(300,400),\n",
    "        batch_size=5,\n",
    "        class_mode='categorical')\n"
   ]
  },
  {
   "cell_type": "code",
   "execution_count": 5,
   "metadata": {},
   "outputs": [],
   "source": [
    "from keras.applications.vgg16 import VGG16\n",
    "from keras.models import Sequential,Model\n",
    "from keras.layers import Dense,Conv2D,Activation,Flatten,Dropout\n",
    "from keras.layers.normalization import BatchNormalization\n",
    "from keras.optimizers import RMSprop\n",
    "from keras.utils import np_utils\n",
    "import math"
   ]
  },
  {
   "cell_type": "code",
   "execution_count": 6,
   "metadata": {},
   "outputs": [],
   "source": [
    "vgg_model = VGG16(weights = 'imagenet',include_top = False,input_shape = (300,400,3))"
   ]
  },
  {
   "cell_type": "code",
   "execution_count": 109,
   "metadata": {},
   "outputs": [],
   "source": [
    "bnf_train = vgg_model.predict_generator(train_generator)\n",
    "bnf_val = vgg_model.predict_generator(validation_generator)"
   ]
  },
  {
   "cell_type": "code",
   "execution_count": 110,
   "metadata": {},
   "outputs": [
    {
     "name": "stdout",
     "output_type": "stream",
     "text": [
      "(1920, 9, 12, 512)\n"
     ]
    }
   ],
   "source": [
    "print(bnf_train.shape)"
   ]
  },
  {
   "cell_type": "code",
   "execution_count": 111,
   "metadata": {},
   "outputs": [
    {
     "data": {
      "text/plain": [
       "(250, 9, 12, 512)"
      ]
     },
     "execution_count": 111,
     "metadata": {},
     "output_type": "execute_result"
    }
   ],
   "source": [
    "bnf_val.shape"
   ]
  },
  {
   "cell_type": "code",
   "execution_count": 112,
   "metadata": {},
   "outputs": [],
   "source": [
    "np.save('bnf_train.npy',bnf_train)\n",
    "np.save('bnf_val.npy',bnf_val)\n"
   ]
  },
  {
   "cell_type": "code",
   "execution_count": 113,
   "metadata": {},
   "outputs": [],
   "source": [
    "model = Sequential()  \n",
    "model.add(Flatten(input_shape=bnf_train.shape[1:]))  \n",
    "model.add(Dense(256, activation='relu'))  \n",
    "#model.add(BatchNormalization())\n",
    "model.add(Dropout(0.2))\n",
    "\n",
    "\n",
    "model.add(Dense(2, activation='sigmoid'))  "
   ]
  },
  {
   "cell_type": "code",
   "execution_count": 13,
   "metadata": {
    "scrolled": true
   },
   "outputs": [
    {
     "name": "stdout",
     "output_type": "stream",
     "text": [
      "[0 0 0 ... 1 1 1]\n",
      "(1920,)\n",
      "[[1. 0.]\n",
      " [1. 0.]\n",
      " [1. 0.]\n",
      " ...\n",
      " [0. 1.]\n",
      " [0. 1.]\n",
      " [0. 1.]]\n",
      "(250, 2)\n"
     ]
    }
   ],
   "source": [
    "Y = train_generator.classes\n",
    "print(Y)\n",
    "Y_val = validation_generator.classes\n",
    "print(Y.shape)\n",
    "Y = np_utils.to_categorical(Y)\n",
    "Y_val = np_utils.to_categorical(Y_val)\n",
    "\n",
    "print(Y)\n",
    "print(Y_val.shape)"
   ]
  },
  {
   "cell_type": "code",
   "execution_count": 115,
   "metadata": {},
   "outputs": [],
   "source": [
    "rms = RMSprop(lr = 0.0001)\n",
    "model.compile(loss = 'categorical_crossentropy',optimizer = rms , metrics = ['accuracy'])"
   ]
  },
  {
   "cell_type": "code",
   "execution_count": 130,
   "metadata": {
    "scrolled": true
   },
   "outputs": [
    {
     "name": "stdout",
     "output_type": "stream",
     "text": [
      "Train on 1920 samples, validate on 250 samples\n",
      "Epoch 1/30\n",
      "1920/1920 [==============================] - 0s 204us/step - loss: 0.0030 - acc: 1.0000 - val_loss: 0.0116 - val_acc: 1.0000\n",
      "Epoch 2/30\n",
      "1920/1920 [==============================] - 0s 206us/step - loss: 0.0018 - acc: 1.0000 - val_loss: 0.0127 - val_acc: 1.0000\n",
      "Epoch 3/30\n",
      "1920/1920 [==============================] - 0s 205us/step - loss: 0.0011 - acc: 1.0000 - val_loss: 0.0158 - val_acc: 0.9960\n",
      "Epoch 4/30\n",
      "1920/1920 [==============================] - 0s 208us/step - loss: 0.0010 - acc: 0.9995 - val_loss: 0.0189 - val_acc: 0.9960\n",
      "Epoch 5/30\n",
      "1920/1920 [==============================] - 0s 207us/step - loss: 9.0172e-04 - acc: 0.9995 - val_loss: 0.0215 - val_acc: 0.9960\n",
      "Epoch 6/30\n",
      "1920/1920 [==============================] - 0s 214us/step - loss: 7.9812e-04 - acc: 0.9995 - val_loss: 0.0239 - val_acc: 0.9960\n",
      "Epoch 7/30\n",
      "1920/1920 [==============================] - 0s 209us/step - loss: 7.2982e-04 - acc: 1.0000 - val_loss: 0.0200 - val_acc: 0.9920\n",
      "Epoch 8/30\n",
      "1920/1920 [==============================] - 0s 208us/step - loss: 0.4930 - acc: 0.9167 - val_loss: 0.0235 - val_acc: 0.9960\n",
      "Epoch 9/30\n",
      "1920/1920 [==============================] - 0s 209us/step - loss: 9.0607e-04 - acc: 0.9995 - val_loss: 0.0250 - val_acc: 0.9960\n",
      "Epoch 10/30\n",
      "1920/1920 [==============================] - 0s 209us/step - loss: 8.7502e-04 - acc: 0.9995 - val_loss: 0.0272 - val_acc: 0.9880\n",
      "Epoch 11/30\n",
      "1920/1920 [==============================] - 0s 214us/step - loss: 7.9576e-04 - acc: 0.9995 - val_loss: 0.0301 - val_acc: 0.9880\n",
      "Epoch 12/30\n",
      "1920/1920 [==============================] - 0s 211us/step - loss: 8.4052e-04 - acc: 1.0000 - val_loss: 0.0327 - val_acc: 0.9800\n",
      "Epoch 13/30\n",
      "1920/1920 [==============================] - 0s 211us/step - loss: 7.0388e-04 - acc: 0.9995 - val_loss: 0.0334 - val_acc: 0.9800\n",
      "Epoch 14/30\n",
      "1920/1920 [==============================] - 0s 221us/step - loss: 6.9582e-04 - acc: 0.9995 - val_loss: 0.0377 - val_acc: 0.9800\n",
      "Epoch 15/30\n",
      "1920/1920 [==============================] - 0s 230us/step - loss: 6.7599e-04 - acc: 0.9995 - val_loss: 0.0400 - val_acc: 0.9800\n",
      "Epoch 16/30\n",
      "1920/1920 [==============================] - 0s 212us/step - loss: 6.0737e-04 - acc: 1.0000 - val_loss: 0.0370 - val_acc: 0.9800\n",
      "Epoch 17/30\n",
      "1920/1920 [==============================] - 0s 218us/step - loss: 5.7834e-04 - acc: 0.9995 - val_loss: 0.0381 - val_acc: 0.9800\n",
      "Epoch 18/30\n",
      "1920/1920 [==============================] - 0s 212us/step - loss: 5.9278e-04 - acc: 0.9995 - val_loss: 0.0465 - val_acc: 0.9800\n",
      "Epoch 19/30\n",
      "1920/1920 [==============================] - 0s 213us/step - loss: 5.6225e-04 - acc: 0.9995 - val_loss: 0.0520 - val_acc: 0.9800\n",
      "Epoch 20/30\n",
      "1920/1920 [==============================] - 0s 216us/step - loss: 5.2865e-04 - acc: 0.9995 - val_loss: 0.0462 - val_acc: 0.9760\n",
      "Epoch 21/30\n",
      "1920/1920 [==============================] - 0s 209us/step - loss: 5.2895e-04 - acc: 0.9995 - val_loss: 0.0500 - val_acc: 0.9760\n",
      "Epoch 22/30\n",
      "1920/1920 [==============================] - 0s 235us/step - loss: 5.2763e-04 - acc: 0.9995 - val_loss: 0.0430 - val_acc: 0.9760\n",
      "Epoch 23/30\n",
      "1920/1920 [==============================] - 0s 215us/step - loss: 0.1250 - acc: 0.9760 - val_loss: 0.5613 - val_acc: 0.7960\n",
      "Epoch 24/30\n",
      "1920/1920 [==============================] - 0s 228us/step - loss: 0.0044 - acc: 0.9995 - val_loss: 0.1178 - val_acc: 0.9520\n",
      "Epoch 25/30\n",
      "1920/1920 [==============================] - 0s 230us/step - loss: 9.0032e-04 - acc: 1.0000 - val_loss: 0.0853 - val_acc: 0.9680\n",
      "Epoch 26/30\n",
      "1920/1920 [==============================] - 0s 210us/step - loss: 6.3492e-04 - acc: 1.0000 - val_loss: 0.0725 - val_acc: 0.9760\n",
      "Epoch 27/30\n",
      "1920/1920 [==============================] - 0s 241us/step - loss: 6.0223e-04 - acc: 0.9995 - val_loss: 0.0603 - val_acc: 0.9760\n",
      "Epoch 28/30\n",
      "1920/1920 [==============================] - 0s 211us/step - loss: 5.1801e-04 - acc: 0.9995 - val_loss: 0.0541 - val_acc: 0.9760\n",
      "Epoch 29/30\n",
      "1920/1920 [==============================] - 0s 213us/step - loss: 5.2092e-04 - acc: 0.9995 - val_loss: 0.0486 - val_acc: 0.9760\n",
      "Epoch 30/30\n",
      "1920/1920 [==============================] - 0s 210us/step - loss: 5.2812e-04 - acc: 0.9995 - val_loss: 0.0549 - val_acc: 0.9760\n"
     ]
    }
   ],
   "source": [
    "hist = model.fit(bnf_train,Y,epochs=30, batch_size=300,validation_data = (bnf_val,Y_val))"
   ]
  },
  {
   "cell_type": "code",
   "execution_count": 133,
   "metadata": {},
   "outputs": [
    {
     "name": "stdout",
     "output_type": "stream",
     "text": [
      "SAVED\n"
     ]
    }
   ],
   "source": [
    "save(model)"
   ]
  },
  {
   "cell_type": "code",
   "execution_count": 132,
   "metadata": {},
   "outputs": [
    {
     "data": {
      "image/png": "[encoded data removed]",
      "text/plain": [
       "<matplotlib.figure.Figure at 0x7f5780512358>"
      ]
     },
     "metadata": {},
     "output_type": "display_data"
    }
   ],
   "source": [
    "import matplotlib.pyplot as plt\n",
    "plt.figure(1)  \n",
    "   \n",
    " # summarize history for accuracy  \n",
    "   \n",
    "plt.subplot(211)  \n",
    "plt.plot(hist.history['acc'])  \n",
    "plt.plot(hist.history['val_acc'])  \n",
    "plt.title('model accuracy')  \n",
    "plt.ylabel('accuracy')  \n",
    "plt.xlabel('epoch')  \n",
    "plt.legend(['train', 'test'], loc='upper left')  \n",
    "   \n",
    " # summarize history for loss  \n",
    "   \n",
    "plt.subplot(212)  \n",
    "plt.plot(hist.history['loss'])  \n",
    "plt.plot(hist.history['val_loss'])  \n",
    "plt.title('model loss')  \n",
    "plt.ylabel('loss')  \n",
    "plt.xlabel('epoch')  \n",
    "plt.legend(['train', 'test'], loc='upper left')  \n",
    "plt.show()  "
   ]
  },
  {
   "cell_type": "code",
   "execution_count": 7,
   "metadata": {},
   "outputs": [
    {
     "name": "stdout",
     "output_type": "stream",
     "text": [
      "Loaded\n"
     ]
    }
   ],
   "source": [
    "from keras.models import model_from_json\n",
    "\n",
    "load_json = open(\"weights70.json\",'r')\n",
    "loaded = load_json.read()\n",
    "load_json.close()\n",
    "load = model_from_json(loaded)\n",
    "load.load_weights(\"model70.h5\")\n",
    "print(\"Loaded\")\n",
    "model = load"
   ]
  },
  {
   "cell_type": "code",
   "execution_count": 8,
   "metadata": {},
   "outputs": [],
   "source": [
    "class_dictionary = train_generator.class_indices \n",
    "inv_map = {v: k for k, v in class_dictionary.items()}  "
   ]
  },
  {
   "cell_type": "code",
   "execution_count": 14,
   "metadata": {},
   "outputs": [],
   "source": [
    "import cv2\n",
    "import numpy as np\n",
    "file_names = []\n",
    "final = []\n",
    "\n",
    "for file in os.listdir('test'):\n",
    "    name = os.path.join('test',file)\n",
    "    img = load_img(name, target_size=(300,400))  \n",
    "    img = img_to_array(img)  \n",
    "    img = img/255\n",
    "    img = np.expand_dims(img, axis=0)  \n",
    "    b = vgg_model.predict(img)\n",
    "    ans = model.predict(b)\n",
    "    ans = np.argmax(ans)\n",
    "    name = file.split('.')\n",
    "    x = name[0]\n",
    "    final.append(inv_map[ans])\n",
    "    file_names.append(int(x))"
   ]
  },
  {
   "cell_type": "code",
   "execution_count": 15,
   "metadata": {},
   "outputs": [],
   "source": [
    "import pandas as pd\n",
    "\n",
    "df = pd.DataFrame(data={'name': file_names, 'invasive': final})\n",
    "df_sort = df.sort_values(by=['name'])\n",
    "df_sort.to_csv('results2.csv', index=False)"
   ]
  },
  {
   "cell_type": "code",
   "execution_count": null,
   "metadata": {},
   "outputs": [],
   "source": []
  }
 ],
 "metadata": {
  "kernelspec": {
   "display_name": "Python 3",
   "language": "python",
   "name": "python3"
  },
  "language_info": {
   "codemirror_mode": {
    "name": "ipython",
    "version": 3
   },
   "file_extension": ".py",
   "mimetype": "text/x-python",
   "name": "python",
   "nbconvert_exporter": "python",
   "pygments_lexer": "ipython3",
   "version": "3.5.2"
  }
 },
 "nbformat": 4,
 "nbformat_minor": 2
}
